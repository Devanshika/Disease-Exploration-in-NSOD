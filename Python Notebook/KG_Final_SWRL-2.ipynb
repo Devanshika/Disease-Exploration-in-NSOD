{
 "cells": [
  {
   "cell_type": "code",
   "execution_count": 1,
   "metadata": {},
   "outputs": [],
   "source": [
    "from rdflib import Graph,Literal,RDF,URIRef, RDFS, DC, DCTERMS, DCAT\n",
    "from rdflib.namespace import XSD, FOAF\n",
    "from rdflib import Namespace\n",
    "import pandas as pd\n",
    "from sodapy import Socrata"
   ]
  },
  {
   "cell_type": "code",
   "execution_count": 53,
   "metadata": {},
   "outputs": [],
   "source": [
    "g = Graph()\n",
    "g1 = Graph()"
   ]
  },
  {
   "cell_type": "code",
   "execution_count": 54,
   "metadata": {},
   "outputs": [
    {
     "data": {
      "text/plain": [
       "<Graph identifier=Nb31d4842116a40999f46694ff7216e36 (<class 'rdflib.graph.Graph'>)>"
      ]
     },
     "execution_count": 54,
     "metadata": {},
     "output_type": "execute_result"
    }
   ],
   "source": [
    "g.parse('file:///Users/rishimidha/Desktop/Ontology/NSdiseaseontology.owl')"
   ]
  },
  {
   "cell_type": "code",
   "execution_count": 55,
   "metadata": {},
   "outputs": [
    {
     "data": {
      "text/plain": [
       "<Graph identifier=Na503082b60384d61bbe6b093d8345b88 (<class 'rdflib.graph.Graph'>)>"
      ]
     },
     "execution_count": 55,
     "metadata": {},
     "output_type": "execute_result"
    }
   ],
   "source": [
    "g1.parse('file:///Users/rishimidha/Desktop/Ontology/doid.owl')"
   ]
  },
  {
   "cell_type": "code",
   "execution_count": 69,
   "metadata": {},
   "outputs": [],
   "source": [
    "cube = Namespace(\"http://purl.org/linked-data/cube#\")\n",
    "sdmxdimension = Namespace(\"http://purl.org/linked-data/sdmx/2009/dimension#\")\n",
    "geo = Namespace (\"https://www.geonames.org/\")\n",
    "sdmxcode = Namespace (\"http://purl.org/linked-data/sdmx#\")\n",
    "freq = Namespace (\"http://purl.org/cld/freq/\")\n",
    "doid = Namespace (\"http://purl.obolibrary.org/obo/DOID#\")\n",
    "doid_4 = URIRef(\"http://purl.obolibrary.org/obo/DOID_4\")"
   ]
  },
  {
   "cell_type": "code",
   "execution_count": 57,
   "metadata": {},
   "outputs": [
    {
     "name": "stdout",
     "output_type": "stream",
     "text": [
      "http://www.semanticweb.org/rmidha/ontologies/statistical#obs-HIVAlberta-6 http://purl.org/linked-data/sdmx/2009/dimension#refArea http://www.w3.org/2003/01/geo/wgs84_pos#5883102\n",
      "http://www.semanticweb.org/rmidha/ontologies/statistical#obs-HIVAlberta-3 http://purl.org/linked-data/sdmx/2009/dimension#refArea http://www.w3.org/2003/01/geo/wgs84_pos#5883102\n",
      "http://www.semanticweb.org/rmidha/ontologies/statistical#obs-HIVAlberta-4 http://purl.org/linked-data/sdmx/2009/dimension#refArea http://www.w3.org/2003/01/geo/wgs84_pos#5883102\n",
      "http://www.semanticweb.org/rmidha/ontologies/statistical#obs-HIVAlberta-7 http://purl.org/linked-data/sdmx/2009/dimension#refArea http://www.w3.org/2003/01/geo/wgs84_pos#5883102\n",
      "http://www.semanticweb.org/rmidha/ontologies/statistical#obs-HIVAlberta-8 http://purl.org/linked-data/sdmx/2009/dimension#refArea http://www.w3.org/2003/01/geo/wgs84_pos#5883102\n",
      "http://www.semanticweb.org/rmidha/ontologies/statistical#obs-HIVAlberta-5 http://purl.org/linked-data/sdmx/2009/dimension#refArea http://www.w3.org/2003/01/geo/wgs84_pos#5883102\n",
      "http://www.semanticweb.org/rmidha/ontologies/statistical#obs-HIVAlberta-1 http://purl.org/linked-data/sdmx/2009/dimension#refArea http://www.w3.org/2003/01/geo/wgs84_pos#5883102\n",
      "http://www.semanticweb.org/rmidha/ontologies/statistical#obs-HIVAlberta-2 http://purl.org/linked-data/sdmx/2009/dimension#refArea http://www.w3.org/2003/01/geo/wgs84_pos#5883102\n"
     ]
    }
   ],
   "source": [
    "for s, p, o in g.triples((None,sdmxdimension.refArea,None)):\n",
    "    print(s,p,o)\n",
    "\n",
    "\n"
   ]
  },
  {
   "cell_type": "code",
   "execution_count": 58,
   "metadata": {},
   "outputs": [],
   "source": [
    "list_of_api={\"sr7h-uyxt\",    #Tetanus\n",
    "             \"naay-xy8i\",    #AIDS\n",
    "             \"5kjg-qidk\",    #Salmonellosis\n",
    "             \"r9i7-qnuh\",    #HepatitisA\n",
    "             \"w7bm-jav4\",    #HepatitisC\n",
    "             \"s4zv-fef7\",    #Shigellosis\n",
    "             \"dxhy-v63n\",    #Giardiasis\n",
    "             \"sps3-eq7e\",    #Chlamydia\n",
    "             \"fbx9-xzkq\",    #Legionellosis\n",
    "             \"enig-mjwt\",    #Cyclosporiasis\n",
    "             \"5itt-58m2\",    #Pertussis\n",
    "             \"4p4c-dv5x\",    #Malaria\n",
    "             \"tsr3-8hh2\",    #HIV\n",
    "             \"qsy8-u73r\",    #Gonorrhea\n",
    "             \"nn2f-jgv4\",    #Campylobacteriosis\n",
    "             \"4vij-qbup\",    #Botulism\n",
    "             \"5mqu-g4g2\",    #Rubella\n",
    "             \"48h6-dubm\",    #Tuberculosis\n",
    "             \"e2eh-63yz\",    #Mumps\n",
    "             \"p42z-mdp9\",    #Typhoid\n",
    "             \"9ckr-t936\",    #Cryptosporidiosis\n",
    "            }"
   ]
  },
  {
   "cell_type": "code",
   "execution_count": 138,
   "metadata": {},
   "outputs": [
    {
     "name": "stderr",
     "output_type": "stream",
     "text": [
      "WARNING:root:Requests made without an app_token will be subject to strict throttling limits.\n"
     ]
    }
   ],
   "source": [
    "client = Socrata(\"data.novascotia.ca\", None)\n",
    "for i in list_of_api:\n",
    "    results = client.get(i)\n",
    "    results1 = client.get_metadata(i)\n",
    "    results_df = pd.DataFrame.from_records(results)\n",
    "    stat = Namespace('http://www.semanticweb.org/rmidha/ontologies/statistical#')\n",
    "    name=results1[\"name\"].replace(' ','')\n",
    "    name=Literal(name, datatype=\"str\")\n",
    "    comment=Literal(results1[\"description\"],datatype=\"str\")\n",
    "    license=URIRef(\"https://novascotia.ca/opendata/licence.asp\")\n",
    "    #created=Literal()\n",
    "    Category=results1[\"category\"]\n",
    "    Category=Category.replace(\" \",\"\")\n",
    "    Category=stat+Category\n",
    "    theme=URIRef(Category)\n",
    "    urlhealthandwellness=\"https://data.novascotia.ca/Health-and-Wellness/\"\n",
    "    urldataset=urlhealthandwellness+name+'/'+results1[\"id\"]\n",
    "    isDefinedBy=Literal(urldataset)\n",
    "    Dept=results1[\"metadata\"][\"custom_fields\"][\"Detailed Metadata\"][\"Department\"]\n",
    "    Dept=Dept.replace(\" \",\"\")\n",
    "    Dept=stat+Dept\n",
    "    department=URIRef(Dept)\n",
    "    DSD=URIRef(\"http://www.semanticweb.org/rmidha/ontologies/statistical#dsd-diseasedatasets\")\n",
    "    lang=results1[\"metadata\"][\"custom_fields\"][\"Detailed Metadata\"][\"Language\"]\n",
    "    if len(lang)== 3:\n",
    "        lang=\"http://www.lexvo.org/page/iso639-3/\"+lang\n",
    "    lang=URIRef(lang)\n",
    "    frequency=results1[\"metadata\"][\"custom_fields\"][\"Detailed Metadata\"][\"Frequency\"]\n",
    "    if frequency==\"Annual\" or frequency==\"Annually\"or frequency==\"annual\"or frequency==\"annually\"or frequency==\"yearly\"or frequency==\"Yearly\":\n",
    "        frequency=freq.annual\n",
    "    frequency=URIRef(frequency)\n",
    "    Location=results1[\"metadata\"][\"custom_fields\"][\"Detailed Metadata\"][\"Geographic Region Name\"]\n",
    "    spatial=geo+\"6091530\"\n",
    "    spatial=URIRef(spatial)\n",
    "    dataset=stat+'dataset-'+name\n",
    "    dataset= URIRef(dataset)\n",
    "    g.add((dataset,RDF.type,cube.DataSet))\n",
    "    g.add((dataset,RDFS.label,name))\n",
    "    g.add((dataset,RDFS.comment,comment))\n",
    "    g.add((dataset,DCTERMS.license,license))\n",
    "    g.add((dataset,DCAT.theme,theme))\n",
    "    for i in results1[\"tags\"]:\n",
    "        tag=i\n",
    "        tag=tag.replace(\" \",\"\")\n",
    "        new=stat+tag\n",
    "        keyword=URIRef(new)\n",
    "        g.add((dataset,DCAT.keyword,keyword))\n",
    "    g.add((dataset,RDFS.isDefinedBy,isDefinedBy))\n",
    "    g.add((dataset,stat.department,department))\n",
    "    g.add((dataset,cube.structure,DSD))\n",
    "    g.add((dataset,DCTERMS.language,lang))\n",
    "    g.add((dataset,DCTERMS.accrualPeriodicity,frequency))\n",
    "    g.add((dataset,DCTERMS.spatial,spatial))\n",
    "    for i in range(1,len(results_df)):\n",
    "        x=str(i)\n",
    "        obsiri=stat+\"obs-\"+name+\"-\"+x\n",
    "        obs=URIRef(obsiri)\n",
    "        g.add((obs,cube.dataSet,dataset))\n",
    "        g.add((obs,RDF.type,cube.Observation))\n",
    "        yr=str(results_df[\"year\"][i])\n",
    "        yr='https://dbpedia.org/page/'+yr\n",
    "        year=URIRef(yr)\n",
    "        g.add((obs,sdmxdimension.refPeriod,year))\n",
    "        regioniri=geo+\"6091530\"\n",
    "        region=URIRef(regioniri)\n",
    "        g.add((obs,sdmxdimension.refArea,region))\n",
    "        T=sdmxcode.sex+\"-T\"\n",
    "        T = URIRef(T)\n",
    "        g.add((obs,sdmxcode.sex,T))\n",
    "        numberofcases=Literal(results_df[\"number_of_cases\"][i],datatype=\"int\")\n",
    "        g.add((obs,stat.numberofcases,numberofcases))\n",
    "        rate_per_100_000_population=Literal(results_df[\"rate_per_100_000_population\"][i],datatype=\"float\")\n",
    "        g.add((obs,stat.rateper100kpopulation,rate_per_100_000_population))\n",
    "        disease=results_df[\"disease\"][i]\n",
    "        disease=disease.lower()\n",
    "        if (disease==\"human immunodeficiency virus\"):\n",
    "            disease=\"human immunodeficiency virus infectious disease\"\n",
    "        elif (disease==\"typhoid\"):\n",
    "            disease=\"typhoid fever\"\n",
    "        elif (disease==\"acquired immune deficiency syndrome\"):\n",
    "            disease=\"acquired immunodeficiency syndrome\"\n",
    "        elif (disease==\"hepatitis c\"):\n",
    "            disease=\"hepatitis C\"\n",
    "        elif (disease==\"hepatitis a\"):\n",
    "            disease=\"hepatitis A\"\n",
    "        diseaselabel=Literal(disease)\n",
    "        for (s, p, o) in g1.triples((None,RDFS.label,diseaselabel)):\n",
    "            diseaseiri=URIRef(s)\n",
    "            g.add((obs,stat.hasdisease,diseaseiri))\n",
    "            while(diseaseiri!=doid_4):\n",
    "                x=g1.value(diseaseiri,RDFS.subClassOf)\n",
    "                diseaseiri=URIRef(x)\n",
    "                g.add((obs,stat.hasdisease,diseaseiri))\n",
    "       \n",
    "                \n",
    "                "
   ]
  },
  {
   "cell_type": "code",
   "execution_count": 141,
   "metadata": {},
   "outputs": [],
   "source": [
    "  \n",
    "file = open(\"output.txt\", \"w\")   \n",
    "g.serialize('output_file_final.ttl',format='ttl')\n",
    "\n"
   ]
  },
  {
   "cell_type": "code",
   "execution_count": null,
   "metadata": {},
   "outputs": [],
   "source": []
  },
  {
   "cell_type": "code",
   "execution_count": null,
   "metadata": {},
   "outputs": [],
   "source": [
    " "
   ]
  },
  {
   "cell_type": "code",
   "execution_count": null,
   "metadata": {},
   "outputs": [],
   "source": []
  }
 ],
 "metadata": {
  "kernelspec": {
   "display_name": "Python 3",
   "language": "python",
   "name": "python3"
  },
  "language_info": {
   "codemirror_mode": {
    "name": "ipython",
    "version": 3
   },
   "file_extension": ".py",
   "mimetype": "text/x-python",
   "name": "python",
   "nbconvert_exporter": "python",
   "pygments_lexer": "ipython3",
   "version": "3.8.3"
  }
 },
 "nbformat": 4,
 "nbformat_minor": 4
}
